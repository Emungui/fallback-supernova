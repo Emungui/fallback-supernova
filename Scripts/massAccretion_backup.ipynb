{
 "cells": [
  {
   "cell_type": "code",
   "execution_count": 1,
   "metadata": {},
   "outputs": [],
   "source": [
    "%matplotlib inline\n",
    "\n",
    "import matplotlib.pyplot as plt\n",
    "import numpy as np\n",
    "import scipy.integrate as integ\n",
    "from astropy.io import ascii\n",
    "from scipy import interpolate\n",
    "import scipy.stats as stats\n",
    "from astropy.table import Table, Column\n",
    "import readsnap as rs\n",
    "\n",
    "\n",
    "plt.rcParams['figure.figsize'] = (8,5)\n",
    "plt.rcParams['legend.frameon'] = False\n",
    "plt.rcParams['legend.fontsize'] = 15\n",
    "plt.rcParams['legend.borderpad'] = 0.1\n",
    "plt.rcParams['legend.labelspacing'] = 0.1\n",
    "plt.rcParams['legend.handletextpad'] = 0.1\n",
    "plt.rcParams['font.family'] = 'stixgeneral'\n",
    "plt.rcParams['font.size'] = 15\n",
    "plt.rcParams['lines.linewidth'] = 2\n",
    "plt.rcParams['axes.labelsize'] = 15\n",
    "\n",
    "\n",
    "# Constants in CGS\n",
    "\n",
    "G = 6.6726e-08\n",
    "Ro = 6.96e10\n",
    "Mo = 1.99e33\n",
    "c = 2.9979e+10\n",
    "day = 60*60*24\n",
    "\n",
    "DistUnit = Ro\n",
    "MassUnit = Mo\n",
    "TimeUnit = np.sqrt(DistUnit**3/(G*MassUnit))\n",
    "VelUnit = DistUnit/TimeUnit\n",
    "AngMomUnit = DistUnit*VelUnit*MassUnit\n",
    "\n",
    "SpinUnit = AngMomUnit*c/(G*Mo**2)\n",
    "\n",
    "\n",
    "\n",
    "Tday = TimeUnit/(60*60*24)\n",
    "\n",
    "#=====================================================\n",
    "# Finds index of the element in an array \n",
    "# with the closest value to \"value\"\n",
    "\n",
    "def find_nearest(array,value):\n",
    "        idx = (np.abs(array-value)).argmin()\n",
    "#     return array[idx]\n",
    "        return idx"
   ]
  },
  {
   "cell_type": "markdown",
   "metadata": {},
   "source": [
    "## data from snapshots and dynamics file"
   ]
  },
  {
   "cell_type": "code",
   "execution_count": 2,
   "metadata": {},
   "outputs": [],
   "source": [
    "def snapdata(path,snap):\n",
    "    data = rs.readsnap(path,snap,0)\n",
    "    dataBH = rs.readsnap(path,snap,5,skip_bh = 1)\n",
    "    dataSTAR = rs.readsnap(path,snap,4)\n",
    "    \n",
    "    return data,dataBH,dataSTAR\n",
    "\n",
    "def Get_dynamics(filename):\n",
    "\n",
    "    \"\"\"Getting the data from the dynmaics file\"\"\"\n",
    "    \n",
    "    dyn = np.genfromtxt(filename)    \n",
    "    \n",
    "    colnames = ('t','Macc_bh','Engy_bh','PaccX_bh','PaccY_bh','PaccZ_bh','LaccX_bh','LaccY_bh' \\\n",
    "                ,'LaccZ_bh','M_gas','X_gas','Y_gas','Z_gas','PX_gas','PY_gas','PZ_gas' \\\n",
    "                ,'LX_gas','LY_gas','LZ_gas', 'M_star','X_star','Y_star','Z_star','PX_star' \\\n",
    "                ,'PY_star','PZ_star','LX_star','LY_star','LZ_star','M_bh','X_bh','Y_bh' \\\n",
    "                ,'Z_bh','PX_bh','PY_bh','PZ_bh','LX_bh','LY_bh','LZ_bh','Macc_star', 'Engy_star' \\\n",
    "                ,'PaccX_star','PaccY_star','PaccZ_star','LaccX_star','LaccY_star' \\\n",
    "                ,'LaccZ_star','LaccX_starCM','LaccY_starCM','LaccZ_starCM','LaccX_bhCM' \\\n",
    "                ,'LaccY_bhCM','LaccZ_bhCM','rp')\n",
    "    \n",
    "    print np.shape(dyn), len(colnames)\n",
    "    dat = Table(dyn,names=colnames)\n",
    "    \n",
    "\n",
    "    return dat\n",
    "\n"
   ]
  },
  {
   "cell_type": "code",
   "execution_count": 3,
   "metadata": {},
   "outputs": [
    {
     "data": {
      "text/plain": [
       "u'/Users/alejandro/DARK/Projects/hydro_Sophie/peanutShapedSupernova/Scripts'"
      ]
     },
     "execution_count": 3,
     "metadata": {},
     "output_type": "execute_result"
    }
   ],
   "source": [
    "pwd"
   ]
  },
  {
   "cell_type": "code",
   "execution_count": 15,
   "metadata": {},
   "outputs": [
    {
     "name": "stdout",
     "output_type": "stream",
     "text": [
      "(6008, 54) 54\n",
      "(7113, 54) 54\n",
      "(3904, 54) 54\n",
      "(1060, 54) 54\n",
      "(1083, 54) 54\n",
      "(2273, 54) 54\n"
     ]
    }
   ],
   "source": [
    "testReadFile1 = \"/Users/alejandro/Dropbox/Alejandro_CE_SN/Data/0608_1/dynamics.txt\"\n",
    "dataTable1 = Get_dynamics(testReadFile1)\n",
    "\n",
    "testReadFile2 = \"/Users/alejandro/Dropbox/Alejandro_CE_SN/Data/0608_2/dynamics.txt\"\n",
    "dataTable2 = Get_dynamics(testReadFile2)\n",
    "\n",
    "testReadFile3 = \"/Users/alejandro/Dropbox/Alejandro_CE_SN/Data/0608_3/dynamics.txt\"\n",
    "dataTable3 = Get_dynamics(testReadFile3)\n",
    "\n",
    "testReadFile4 = \"/Users/alejandro/Dropbox/Alejandro_CE_SN/Data/0608_4/dynamics.txt\"\n",
    "dataTable4 = Get_dynamics(testReadFile4)\n",
    "\n",
    "testReadFile5 = \"/Users/alejandro/Dropbox/Alejandro_CE_SN/Data/0608_5/dynamics.txt\"\n",
    "dataTable5 = Get_dynamics(testReadFile5)\n",
    "\n",
    "testReadFile6 = \"/Users/alejandro/Dropbox/Alejandro_CE_SN/Data/2407_1/dynamics_1.txt\"\n",
    "dataTable6 = Get_dynamics(testReadFile6)\n",
    "\n",
    "\n"
   ]
  },
  {
   "cell_type": "code",
   "execution_count": null,
   "metadata": {},
   "outputs": [],
   "source": [
    "dataTable.colnames"
   ]
  },
  {
   "cell_type": "code",
   "execution_count": 19,
   "metadata": {},
   "outputs": [
    {
     "data": {
      "text/plain": [
       "<matplotlib.legend.Legend at 0x7ff848a05f50>"
      ]
     },
     "execution_count": 19,
     "metadata": {},
     "output_type": "execute_result"
    },
    {
     "data": {
      "image/png": "[encoded data removed]",
      "text/plain": [
       "<Figure size 432x288 with 1 Axes>"
      ]
     },
     "metadata": {
      "needs_background": "light"
     },
     "output_type": "display_data"
    }
   ],
   "source": [
    "# plt.plot(dataTable['t'],dataTable['Macc_bh'])\n",
    "# plt.plot(dataTable2['t'],dataTable2['Macc_bh'])\n",
    "# plt.plot(dataTable3['t'],dataTable3['Macc_bh'])\n",
    "# plt.plot(dataTable4['t'],dataTable4['Macc_bh'])\n",
    "# plt.plot(dataTable4['t'],dataTable4['M_bh'])\n",
    "# plt.plot(dataTable4['t'],dataTable4['M_star'])\n",
    "plt.plot(dataTable6['t'],dataTable6['M_star'],label='Mexp=0.1')\n",
    "plt.plot(dataTable2['t'],dataTable2['M_star'],label='Mexp=0.2')\n",
    "plt.plot(dataTable1['t'],dataTable1['M_star'],label='Mexp=0.3')\n",
    "\n",
    "\n",
    "# plt.xlim(0,0.2)\n",
    "# plt.semilogx()\n",
    "\n",
    "plt.legend()"
   ]
  },
  {
   "cell_type": "code",
   "execution_count": 20,
   "metadata": {},
   "outputs": [
    {
     "data": {
      "text/plain": [
       "<matplotlib.legend.Legend at 0x7ff84a049890>"
      ]
     },
     "execution_count": 20,
     "metadata": {},
     "output_type": "execute_result"
    },
    {
     "data": {
      "image/png": "[encoded data removed]",
      "text/plain": [
       "<Figure size 432x288 with 1 Axes>"
      ]
     },
     "metadata": {
      "needs_background": "light"
     },
     "output_type": "display_data"
    }
   ],
   "source": [
    "plt.plot(dataTable6['t'],dataTable6['M_bh'],'--',label='Mexp=0.1')\n",
    "plt.plot(dataTable2['t'],dataTable2['M_bh'],'--',label='Mexp=0.2')\n",
    "plt.plot(dataTable1['t'],dataTable1['M_bh'],'--',label='Mexp=0.3')\n",
    "# plt.plot(dataTable['t'],dataTable['M_star'],'-.')\n",
    "# plt.plot(dataTable['t'],dataTable['M_gas'],':')\n",
    "\n",
    "\n",
    "plt.legend()"
   ]
  },
  {
   "cell_type": "code",
   "execution_count": null,
   "metadata": {},
   "outputs": [],
   "source": [
    "# spin already accreted\n",
    "def spin(dyn):\n",
    "    Lacc = (np.sqrt(dyn['LaccZ_bh']**2))*AngMomUnit\n",
    "    bh_spin = Lacc*c/(G*(dyn['M_bh']*Mo)**2)\n",
    "    return bh_spin"
   ]
  },
  {
   "cell_type": "code",
   "execution_count": null,
   "metadata": {},
   "outputs": [],
   "source": [
    "spinBH = spin(dataTable)"
   ]
  },
  {
   "cell_type": "code",
   "execution_count": null,
   "metadata": {},
   "outputs": [],
   "source": [
    "plt.plot(dataTable['t'],spinBH)"
   ]
  },
  {
   "cell_type": "code",
   "execution_count": null,
   "metadata": {},
   "outputs": [],
   "source": [
    "Macc_bh"
   ]
  }
 ],
 "metadata": {
  "anaconda-cloud": {},
  "kernelspec": {
   "display_name": "Python 2",
   "language": "python",
   "name": "python2"
  },
  "language_info": {
   "codemirror_mode": {
    "name": "ipython",
    "version": 2
   },
   "file_extension": ".py",
   "mimetype": "text/x-python",
   "name": "python",
   "nbconvert_exporter": "python",
   "pygments_lexer": "ipython2",
   "version": "2.7.18"
  }
 },
 "nbformat": 4,
 "nbformat_minor": 1
}

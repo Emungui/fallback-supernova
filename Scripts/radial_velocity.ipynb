{
 "cells": [
  {
   "cell_type": "code",
   "execution_count": 1,
   "metadata": {},
   "outputs": [],
   "source": [
    "%matplotlib inline\n",
    "%config InlineBackend.figure_format = \"retina\"\n",
    "\n",
    "import matplotlib.pyplot as plt\n",
    "import seaborn as sns\n",
    "sns.set_style('ticks')\n",
    "import numpy as np\n",
    "import scipy.integrate as integ\n",
    "from astropy.io import ascii\n",
    "from scipy import interpolate\n",
    "import scipy.stats as stats\n",
    "from astropy.table import Table, Column\n",
    "import readsnap as rs\n",
    "reload(rs)\n",
    "\n",
    "\n",
    "plt.rcParams['figure.figsize'] = (8,5)\n",
    "plt.rcParams['legend.frameon'] = False\n",
    "plt.rcParams['legend.fontsize'] = 15\n",
    "plt.rcParams['legend.borderpad'] = 0.1\n",
    "plt.rcParams['legend.labelspacing'] = 0.1\n",
    "plt.rcParams['legend.handletextpad'] = 0.1\n",
    "plt.rcParams['font.family'] = 'stixgeneral'\n",
    "plt.rcParams['font.size'] = 15\n",
    "plt.rcParams['lines.linewidth'] = 2\n",
    "plt.rcParams['axes.labelsize'] = 15\n",
    "\n",
    "\n",
    "# Constants in CGS\n",
    "\n",
    "G = 6.6726e-08\n",
    "Ro = 6.96e10\n",
    "Mo = 1.99e33\n",
    "c = 2.9979e+10\n",
    "day = 60*60*24\n",
    "\n",
    "DistUnit = Ro\n",
    "MassUnit = Mo\n",
    "TimeUnit = np.sqrt(DistUnit**3/(G*MassUnit))\n",
    "VelUnit = DistUnit/TimeUnit\n",
    "AngMomUnit = DistUnit*VelUnit*MassUnit\n",
    "\n",
    "SpinUnit = AngMomUnit*c/(G*Mo**2)\n",
    "\n",
    "\n",
    "\n",
    "Tday = TimeUnit/(60*60*24)\n",
    "\n",
    "#=====================================================\n",
    "# Finds index of the element in an array \n",
    "# with the closest value to \"value\"\n",
    "\n",
    "def find_nearest(array,value):\n",
    "        idx = (np.abs(array-value)).argmin()\n",
    "#     return array[idx]\n",
    "        return idx\n",
    "\n",
    "\n",
    "\n",
    "\n"
   ]
  },
  {
   "cell_type": "code",
   "execution_count": 2,
   "metadata": {},
   "outputs": [],
   "source": [
    "def snapdata(path,snap):\n",
    "    data = rs.readsnap(path,snap,0)\n",
    "    dataBH = rs.readsnap(path,snap,5,skip_bh = 1)\n",
    "    dataSTAR = rs.readsnap(path,snap,4)\n",
    "    \n",
    "    return data,dataBH,dataSTAR\n",
    "\n",
    "def Get_dynamics(filename):\n",
    "\n",
    "    \"\"\"Getting the data from the dynmaics file\"\"\"\n",
    "    \n",
    "    dyn = np.genfromtxt(filename)    \n",
    "    \n",
    "    colnames = ('t','Macc_bh','Engy_bh','PaccX_bh','PaccY_bh','PaccZ_bh','LaccX_bh','LaccY_bh' \\\n",
    "                ,'LaccZ_bh','M_gas','X_gas','Y_gas','Z_gas','PX_gas','PY_gas','PZ_gas' \\\n",
    "                ,'LX_gas','LY_gas','LZ_gas', 'M_star','X_star','Y_star','Z_star','PX_star' \\\n",
    "                ,'PY_star','PZ_star','LX_star','LY_star','LZ_star','M_bh','X_bh','Y_bh' \\\n",
    "                ,'Z_bh','PX_bh','PY_bh','PZ_bh','LX_bh','LY_bh','LZ_bh','Macc_star', 'Engy_star' \\\n",
    "                ,'PaccX_star','PaccY_star','PaccZ_star','LaccX_star','LaccY_star' \\\n",
    "                ,'LaccZ_star','LaccX_starCM','LaccY_starCM','LaccZ_starCM','LaccX_bhCM' \\\n",
    "                ,'LaccY_bhCM','LaccZ_bhCM','rp')\n",
    "    \n",
    "    print np.shape(dyn), len(colnames)\n",
    "    dat = Table(dyn,names=colnames)\n",
    "    \n",
    "\n",
    "    return dat\n",
    "\n"
   ]
  },
  {
   "cell_type": "code",
   "execution_count": 3,
   "metadata": {},
   "outputs": [],
   "source": [
    "def vrad(data,dataBH):\n",
    "    \n",
    "    # get position and velocity from bh frame\n",
    "    posgasX = data['p'][:,0] - dataBH['p'][0,0] \n",
    "    posgasY = data['p'][:,1] - dataBH['p'][0,1] \n",
    "    posgasZ = data['p'][:,2] - dataBH['p'][0,2] \n",
    "\n",
    "    velgasX = data['v'][:,0] - dataBH['v'][0,0] \n",
    "    velgasY = data['v'][:,1] - dataBH['v'][0,1] \n",
    "    velgasZ = data['v'][:,2] - dataBH['v'][0,2] \n",
    "\n",
    "    # radius and radial velocity\n",
    "    R = np.sqrt(posgasX**2 + posgasY**2 + posgasZ**2)\n",
    "    Vrad  = (velgasX*posgasX + velgasY*posgasY + velgasZ*posgasZ)/R\n",
    "    \n",
    "    # Angular momentum of each particle\n",
    "    A = (posgasX*velgasY - posgasY*velgasX)*data['m']\n",
    "    \n",
    "    # bin for plotting\n",
    "    nbin = 400\n",
    "    Vradb, Rb, bin_id = stats.binned_statistic(R,Vrad,bins=nbin,statistic='mean')\n",
    "    Rave = (Rb[:-1] + Rb[1:])*0.5\n",
    "    \n",
    "    Mbin, Rb, bin_id = stats.binned_statistic(R,data['m'],statistic='sum',bins=nbin)\n",
    "    Rave = (Rb[:-1] + Rb[1:])*0.5\n",
    "    \n",
    "    Abin, Rb, bin_id = stats.binned_statistic(R,A,statistic='sum',bins=nbin)\n",
    "    \n",
    "    #getting bh data\n",
    "    Mbh0 = dataBH['m']\n",
    "\n",
    "    return R,Vrad,A,Rave,Vradb,(np.cumsum(Mbin)+Mbh0),Abin\n",
    "\n",
    "\n",
    "def escvel(data,dataBH):\n",
    "    \n",
    "    R,Vrad,A,Rave,Vradb,Mbin,Abin = vrad(data,dataBH)\n",
    "    \n",
    "    vesc = np.sqrt(2*G*Mbin*Mo/(Rave*Ro))\n",
    "\n",
    "    return R,Vrad,A,Rave,Vradb,Mbin,vesc,Abin\n",
    "    \n",
    "    "
   ]
  },
  {
   "cell_type": "markdown",
   "metadata": {},
   "source": [
    "## Estimating the amount of torqued material\n",
    "\n",
    "\n",
    "\n",
    "The bound material will reach a radius $r_{max}$:\n",
    "\n",
    "\\begin{equation}\n",
    "\\frac{1}{2} m v_i^2 - \\frac{GM(r)m}{r_i} = - \\frac{GM(r)m}{r_{max}}\n",
    "\\end{equation}\n",
    "\n",
    "\\begin{equation}\n",
    "\\rightarrow r_{max} = \\frac{- GM(r)m}{\\frac{1}{2} m v_i^2 - \\frac{GM(r)m}{r_i}} = \\frac{- GM(r)}{\\frac{1}{2} v_i^2 - \\frac{GM(r)}{r_i}}\n",
    "\\end{equation}\n",
    "\n",
    "Deviding by $v_{esc}^2=\\frac{2GM(r)}{r_i}$:\n",
    "\\begin{equation}\n",
    "r_{max} = \\frac{- \\frac{1}{2}r_i} {\\frac{1}{2}\\left(\\frac{v_i}{v_{esc}}\\right)^2 - \\frac{1}{2} } = \\frac{r_i} {1 -\\left(\\frac{v_i}{v_{esc}}\\right)^2 }\n",
    "\\end{equation}\n",
    "\n",
    "gives an nice version of $r_{max}$.\n",
    "\n",
    "Because the velocity profiles are very steep, the fast ejecta will leave the binary quickly, and material below escape velocity will fall back pretty quickly. The small amount of material that will be torqued significantly, is the material reaching the orbital separation, before collapsing back onto the black hole.\n",
    "\n",
    "The amount of material directly accreted depends on how strong the explosion is \n"
   ]
  },
  {
   "cell_type": "code",
   "execution_count": 26,
   "metadata": {},
   "outputs": [],
   "source": [
    "# function for looping through all R values needed\n",
    "def masscal(path,snap,Rlist):                         # path is the directory of the snapshots\n",
    "                                                      # snap is one number from a list with the number of snapshots\n",
    "                                                      # Rlist is a list of interesting R values for mass position\n",
    "                                                      \n",
    "    #get data from snapshot\n",
    "    data,dataBH,dataSTAR = snapdata(path,snap)\n",
    "    \n",
    "    #get BINNED radius, velocity, masscoordinate and escape velocity \n",
    "    R,Vrad,A,Rave,Vradbin,M,vesc,Abin = escvel(data,dataBH)\n",
    "    \n",
    "    # bound material has velocity below escape velocity\n",
    "    mfunc    = interpolate.interp1d(Rave, M,bounds_error=None,fill_value='extrapolate')\n",
    "    vesc     = np.sqrt(2*G*mfunc(R)*Mo/(R*Ro))\n",
    "    \n",
    "    bound    = Vrad*VelUnit<vesc\n",
    "    \n",
    "    # create arrays for bound material (not binned quantities)\n",
    "    Rb    = np.array(R[bound])\n",
    "    Vradb = np.array(Vrad[bound])\n",
    "    vescb = np.array(vesc[bound])\n",
    "    Ab    = np.array(A[bound])\n",
    "    \n",
    "    \n",
    "    # maximum radius reached\n",
    "    rmax = Rb / (1.0 - (Vradb*VelUnit/vescb)**2)\n",
    "    \n",
    "    # lost mass with velocity above escape\n",
    "    Mlost = sum(data['m'][~bound])\n",
    "    \n",
    "    # bound particles with velocity below escape\n",
    "    Mbound = data['m'][bound]\n",
    "    \n",
    "    # find amount of already acrreted angular momentum from dyn file\n",
    "    dyn = Get_dynamics(path+'/dynamics.txt')\n",
    "    idx = find_nearest(dyn['M_bh'],dataBH['m'])\n",
    "    Lacc = dyn['LaccZ_bh'][idx]\n",
    "    print 'is ths the right type ',type(Lacc),type(dataBH['m'][0])\n",
    "    \n",
    "    # mass passing list of important radii\n",
    "    Mdisk   = np.zeros(len(Rlist))\n",
    "    Mdirect = np.zeros(len(Rlist))\n",
    "\n",
    "    # Ang mom passing list of important radii\n",
    "    Angdisk   = np.zeros(len(Rlist))\n",
    "    Angdirect = np.zeros(len(Rlist))\n",
    "    \n",
    "\n",
    "    for i in range(len(Rlist)):\n",
    "        \n",
    "        Mdirect[i] = sum(Mbound[rmax<Rlist[i]])+dataBH['m'][0]\n",
    "        Mdisk[i]   = sum(Mbound[rmax>Rlist[i]])  \n",
    "        \n",
    "        Angdirect[i] = sum(Ab[rmax>Rlist[i]])+Lacc\n",
    "        Angdisk[i]   = sum(Ab[rmax<Rlist[i]])\n",
    "    \n",
    "    return Mbound,Mlost,Mdisk,Mdirect,Angdisk,Angdirect\n",
    "\n",
    "\n",
    "\n",
    "\n"
   ]
  },
  {
   "cell_type": "markdown",
   "metadata": {},
   "source": [
    "## Estimating the spin\n",
    "\n",
    "for $z_1$ and $M_1$ are the initial values\n",
    "\\begin{equation}\n",
    "\\frac{z}{z_1} = \\left(\\frac{M_1}{M}\\right)^2\n",
    "\\end{equation}\n",
    "\n",
    "From this equation get the new $z$ given the amount of final mass, value and calculate a \n",
    "\\begin{equation}\n",
    "a(z) = \\frac{1}{3} z^{1/2} \\left[ 4- (3z - 2)^{1/2} \\right]\n",
    "\\end{equation}\n"
   ]
  },
  {
   "cell_type": "code",
   "execution_count": 5,
   "metadata": {},
   "outputs": [],
   "source": [
    "# spin already accreted\n",
    "def spin(dyn):\n",
    "    Lacc = (np.sqrt(dyn['LaccZ_bh']**2))*AngMomUnit\n",
    "    bh_spin = Lacc*c/(G*(dyn['M_bh']*Mo)**2)\n",
    "    return bh_spin\n",
    "\n",
    "def geta_direct(Angdirect,Mdirect):\n",
    "    \n",
    "    # get spin from total angular momentum accreted directly\n",
    "    Lacc = np.sqrt(Angdirect**2)*AngMomUnit \n",
    "    spindirect = Lacc*c/(G*((Mdirect)*Mo)**2)\n",
    "    \n",
    "    return spindirect\n",
    "\n",
    "def get_r_isco(a):\n",
    "    \n",
    "    \n",
    "    print 'what type is a ',type(a),'and its shape',np.shape(a)\n",
    "    w1 = 1. + (1. - a**2.)**(1./3.) * ((1. + a)**(1./3.) + (1 - a)**(1./3.))\n",
    "    w2 = (3.*a**2 + w1**2.)**(1./2.)\n",
    "    \n",
    "    # z = r_isco/M\n",
    "    z = 3 + w2 - ((3 - w1)*(3 + w1 + 2*w2))**(1./2.)\n",
    "    return z\n",
    "\n",
    "\n",
    "def disk(Mdirect,Mlist,Angdirect):\n",
    "    \n",
    "    # get spin from directly falling material\n",
    "    a_direct = geta_direct(Angdirect,Mdirect)\n",
    "    \n",
    "    \n",
    "    # get new r_ISCO\n",
    "    z_1 = get_r_isco(a_direct)\n",
    "    Mfinal = Mdirect + Mlist\n",
    "    z = (Mdirect/Mfinal)**2 * z_1\n",
    "    \n",
    "    \n",
    "    afinal = 1./3. * z**(1./2.) * (4 - np.sqrt(3.*z - 2) )\n",
    "    \n",
    "    return afinal\n",
    "\n"
   ]
  },
  {
   "cell_type": "markdown",
   "metadata": {},
   "source": [
    "# Here is the file going in..."
   ]
  },
  {
   "cell_type": "code",
   "execution_count": 17,
   "metadata": {},
   "outputs": [
    {
     "name": "stdout",
     "output_type": "stream",
     "text": [
      "dynamics.txt       snapshot_131.hdf5  snapshot_261.hdf5  snapshot_391.hdf5\r\n",
      "snapshot_011.hdf5  snapshot_141.hdf5  snapshot_271.hdf5  snapshot_401.hdf5\r\n",
      "snapshot_021.hdf5  snapshot_151.hdf5  snapshot_281.hdf5  snapshot_411.hdf5\r\n",
      "snapshot_031.hdf5  snapshot_161.hdf5  snapshot_291.hdf5  snapshot_421.hdf5\r\n",
      "snapshot_041.hdf5  snapshot_171.hdf5  snapshot_301.hdf5  snapshot_431.hdf5\r\n",
      "snapshot_051.hdf5  snapshot_181.hdf5  snapshot_311.hdf5  snapshot_441.hdf5\r\n",
      "snapshot_061.hdf5  snapshot_191.hdf5  snapshot_321.hdf5  snapshot_451.hdf5\r\n",
      "snapshot_071.hdf5  snapshot_201.hdf5  snapshot_331.hdf5  snapshot_461.hdf5\r\n",
      "snapshot_081.hdf5  snapshot_211.hdf5  snapshot_341.hdf5  snapshot_471.hdf5\r\n",
      "snapshot_091.hdf5  snapshot_221.hdf5  snapshot_351.hdf5  snapshot_481.hdf5\r\n",
      "snapshot_101.hdf5  snapshot_231.hdf5  snapshot_361.hdf5  snapshot_491.hdf5\r\n",
      "snapshot_111.hdf5  snapshot_241.hdf5  snapshot_371.hdf5  snapshot_501.hdf5\r\n",
      "snapshot_121.hdf5  snapshot_251.hdf5  snapshot_381.hdf5  splash.defaults\r\n"
     ]
    }
   ],
   "source": [
    "ls /Users/alejandro/Dropbox/Alejandro_CE_SN/Data/1607_SNf_0_25_a_1_5"
   ]
  },
  {
   "cell_type": "code",
   "execution_count": null,
   "metadata": {},
   "outputs": [],
   "source": [
    "def plotting_v(Mbin,Vradbin,vesc,snap):\n",
    "        plt.plot(Mbin,Vradbin*VelUnit/1e5,color=plt.cm.copper(1./6.),label='0.1')\n",
    "        plt.plot(Mbin,vesc/1e5,'--',color=plt.cm.copper(1./6.))\n",
    "\n",
    "        plt.xlabel(r'$M_{coord}\\ [M_{\\odot}]$')\n",
    "        plt.ylabel(r'$v_{rad}$ [km/s]')\n",
    "        plt.ylim(-7000,7000)\n",
    "        plt.xlim(1.5,1.1*Mbin[-1])\n",
    "        plt.legend(loc='best')\n",
    "        plt.grid()\n",
    "        plt.title('snap '+ str(snap))"
   ]
  },
  {
   "cell_type": "code",
   "execution_count": 6,
   "metadata": {
    "scrolled": false
   },
   "outputs": [
    {
     "name": "stdout",
     "output_type": "stream",
     "text": [
      "(10001, 54) 54\n"
     ]
    }
   ],
   "source": [
    "# set directory path\n",
    "Apath10 = '/Users/alejandro/Dropbox/Alejandro_CE_SN/Data/1607_SNf_0_25_a_1_5'\n",
    "\n",
    "#get dynamics file\n",
    "filename = Apath10 + '/dynamics.txt'\n",
    "Adyn10 = Get_dynamics(filename)\n",
    "\n",
    "# choose snapshot for calculation\n",
    "snap = np.array([i for i in range(1, 300)])"
   ]
  },
  {
   "cell_type": "code",
   "execution_count": null,
   "metadata": {},
   "outputs": [],
   "source": [
    "# get data from snapshot for gas particles and star sink particle and Bh sink particle\n",
    "for i in snap:\n",
    "    Adata10,AdataBH10,AdataSTAR10 = snapdata(Apath10,i)\n",
    "\n",
    "    #calculate radial velocity\n",
    "    R,Vrad,A,ARave10,AVradbin10,AMbin10,Avesc10,AAbin10 = escvel(Adata10,AdataBH10)\n",
    "\n",
    "    plotting_v(AMbin10,AVradbin10,Avesc10,i)\n",
    "    if i<10:\n",
    "        plt.savefig(Apath10+'/Plots/'+'pic-0'+str(i)+'.png')\n",
    "    else: \n",
    "        plt.savefig(Apath10+'/Plots/'+'pic-'+str(i)+'.png')\n",
    "    plt.clf()    "
   ]
  },
  {
   "cell_type": "code",
   "execution_count": null,
   "metadata": {},
   "outputs": [],
   "source": []
  },
  {
   "cell_type": "code",
   "execution_count": 29,
   "metadata": {},
   "outputs": [
    {
     "name": "stdout",
     "output_type": "stream",
     "text": [
      "This is the filename /Users/alejandro/Dropbox/Alejandro_CE_SN/Data/1607_SNf_0_25_a_1_5/snapshot_002.hdf5\n",
      "('npart_file: ', array([521724,      0,      0,      0,      1,      1], dtype=int32))\n",
      "('npart_total:', array([521724,      0,      0,      0,      1,      1], dtype=uint32))\n",
      "This is the filename /Users/alejandro/Dropbox/Alejandro_CE_SN/Data/1607_SNf_0_25_a_1_5/snapshot_002.hdf5\n",
      "('npart_file: ', array([521724,      0,      0,      0,      1,      1], dtype=int32))\n",
      "('npart_total:', array([521724,      0,      0,      0,      1,      1], dtype=uint32))\n",
      "This is the filename /Users/alejandro/Dropbox/Alejandro_CE_SN/Data/1607_SNf_0_25_a_1_5/snapshot_002.hdf5\n",
      "('npart_file: ', array([521724,      0,      0,      0,      1,      1], dtype=int32))\n",
      "('npart_total:', array([521724,      0,      0,      0,      1,      1], dtype=uint32))\n",
      "(10001, 54) 54\n",
      "is ths the right type  <type 'numpy.float64'> <type 'numpy.float64'>\n",
      "(7.14769037131191e-05, array([7.70173847e-06, 5.48023945e-06, 5.48023945e-06, ...,\n",
      "       5.48023945e-06, 7.70173847e-06, 7.70173847e-06]))\n",
      "1.9307428970193996\n"
     ]
    },
    {
     "data": {
      "text/plain": [
       "[<matplotlib.lines.Line2D at 0x7fd3da6da510>]"
      ]
     },
     "execution_count": 29,
     "metadata": {},
     "output_type": "execute_result"
    },
    {
     "data": {
      "image/png": "[encoded data removed]",
      "text/plain": [
       "<Figure size 432x288 with 1 Axes>"
      ]
     },
     "metadata": {
      "image/png": {
       "height": 250,
       "width": 370
      },
      "needs_background": "light"
     },
     "output_type": "display_data"
    }
   ],
   "source": [
    "# Calculating the amount of enclosed mass within a radius\n",
    "Rlist = np.logspace(-1,1,10) # in code units\n",
    "Mbound,Mlost,Mdisk,Mdirect,Angdisk,Angdirect = masscal(Apath10,2,Rlist) \n",
    "\n",
    "print(Mlost,Mbound)\n",
    "print(np.sum(Mbound))\n",
    "\n",
    "\n",
    "plt.plot(Rlist,Mdirect)\n"
   ]
  },
  {
   "cell_type": "code",
   "execution_count": null,
   "metadata": {},
   "outputs": [],
   "source": [
    "def plotting_v(Mbin,Vradbin,vesc,snap):\n",
    "    plt.plot(Mbin,Vradbin*VelUnit/1e5,color=plt.cm.copper(1./6.),label='0.1')\n",
    "    plt.plot(Mbin,vesc/1e5,'--',color=plt.cm.copper(1./6.))\n",
    "    \n",
    "    plt.xlabel(r'$M_{coord}\\ [M_{\\odot}]$')\n",
    "    plt.ylabel(r'$v_{rad}$ [km/s]')\n",
    "    plt.ylim(-5000,5000)\n",
    "    plt.xlim(1.5,1.1*Mbin[-1])\n",
    "    plt.legend(loc='best')\n",
    "    plt.grid()\n",
    "    plt.title('snap '+ str(snap))\n",
    "    \n",
    "plotting_v(AMbin10,AVradbin10,Avesc10,snap)\n",
    "plt.savefig(str(snap)+'.png')"
   ]
  },
  {
   "cell_type": "code",
   "execution_count": null,
   "metadata": {},
   "outputs": [],
   "source": []
  }
 ],
 "metadata": {
  "kernelspec": {
   "display_name": "Python 2",
   "language": "python",
   "name": "python2"
  },
  "language_info": {
   "codemirror_mode": {
    "name": "ipython",
    "version": 2
   },
   "file_extension": ".py",
   "mimetype": "text/x-python",
   "name": "python",
   "nbconvert_exporter": "python",
   "pygments_lexer": "ipython2",
   "version": "2.7.18"
  }
 },
 "nbformat": 4,
 "nbformat_minor": 2
}

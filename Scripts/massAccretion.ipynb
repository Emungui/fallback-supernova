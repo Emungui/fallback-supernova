{
 "cells": [
  {
   "cell_type": "code",
   "execution_count": 22,
   "metadata": {},
   "outputs": [],
   "source": [
    "%matplotlib inline\n",
    "\n",
    "import matplotlib.pyplot as plt\n",
    "import numpy as np\n",
    "import scipy.integrate as integ\n",
    "from astropy.io import ascii\n",
    "from scipy import interpolate\n",
    "import scipy.stats as stats\n",
    "from astropy.table import Table, Column\n",
    "import readsnap as rs\n",
    "\n",
    "\n",
    "plt.rcParams['figure.figsize'] = (8,5)\n",
    "plt.rcParams['legend.frameon'] = False\n",
    "plt.rcParams['legend.fontsize'] = 15\n",
    "plt.rcParams['legend.borderpad'] = 0.1\n",
    "plt.rcParams['legend.labelspacing'] = 0.1\n",
    "plt.rcParams['legend.handletextpad'] = 0.1\n",
    "plt.rcParams['font.family'] = 'stixgeneral'\n",
    "plt.rcParams['font.size'] = 15\n",
    "plt.rcParams['lines.linewidth'] = 2\n",
    "plt.rcParams['axes.labelsize'] = 15\n",
    "\n",
    "\n",
    "# Constants in CGS\n",
    "\n",
    "G = 6.6726e-08\n",
    "Ro = 6.96e10\n",
    "Mo = 1.99e33\n",
    "c = 2.9979e+10\n",
    "day = 60*60*24\n",
    "\n",
    "DistUnit = Ro\n",
    "MassUnit = Mo\n",
    "TimeUnit = np.sqrt(DistUnit**3/(G*MassUnit))\n",
    "VelUnit = DistUnit/TimeUnit\n",
    "AngMomUnit = DistUnit*VelUnit*MassUnit\n",
    "\n",
    "SpinUnit = AngMomUnit*c/(G*Mo**2)\n",
    "\n",
    "DensityUnit = MassUnit/(DistUnit**3)\n",
    "\n",
    "\n",
    "Tday = TimeUnit/(60*60*24)\n",
    "\n",
    "#=====================================================\n",
    "# Finds index of the element in an array \n",
    "# with the closest value to \"value\"\n",
    "\n",
    "def find_nearest(array,value):\n",
    "        idx = (np.abs(array-value)).argmin()\n",
    "#     return array[idx]\n",
    "        return idx"
   ]
  },
  {
   "cell_type": "code",
   "execution_count": 23,
   "metadata": {},
   "outputs": [
    {
     "name": "stdout",
     "output_type": "stream",
     "text": [
      "1593.4548986025416\n",
      "5.90235541827\n"
     ]
    }
   ],
   "source": [
    "print(TimeUnit)\n",
    "print(DensityUnit)"
   ]
  },
  {
   "cell_type": "markdown",
   "metadata": {},
   "source": [
    "## data from snapshots and dynamics file"
   ]
  },
  {
   "cell_type": "code",
   "execution_count": 3,
   "metadata": {},
   "outputs": [],
   "source": [
    "def snapdata(path,snap):\n",
    "    data = rs.readsnap(path,snap,0)\n",
    "    dataBH = rs.readsnap(path,snap,5,skip_bh = 1)\n",
    "    dataSTAR = rs.readsnap(path,snap,4)\n",
    "    \n",
    "    return data,dataBH,dataSTAR\n",
    "\n",
    "def Get_dynamics(filename):\n",
    "\n",
    "    \"\"\"Getting the data from the dynmaics file\"\"\"\n",
    "    \n",
    "    dyn = np.genfromtxt(filename)    \n",
    "    \n",
    "    colnames = ('t','Macc_bh','Engy_bh','PaccX_bh','PaccY_bh','PaccZ_bh','LaccX_bh','LaccY_bh' \\\n",
    "                ,'LaccZ_bh','M_gas','X_gas','Y_gas','Z_gas','PX_gas','PY_gas','PZ_gas' \\\n",
    "                ,'LX_gas','LY_gas','LZ_gas', 'M_star','X_star','Y_star','Z_star','PX_star' \\\n",
    "                ,'PY_star','PZ_star','LX_star','LY_star','LZ_star','M_bh','X_bh','Y_bh' \\\n",
    "                ,'Z_bh','PX_bh','PY_bh','PZ_bh','LX_bh','LY_bh','LZ_bh','Macc_star', 'Engy_star' \\\n",
    "                ,'PaccX_star','PaccY_star','PaccZ_star','LaccX_star','LaccY_star' \\\n",
    "                ,'LaccZ_star','LaccX_starCM','LaccY_starCM','LaccZ_starCM','LaccX_bhCM' \\\n",
    "                ,'LaccY_bhCM','LaccZ_bhCM','rp')\n",
    "    \n",
    "    print np.shape(dyn), len(colnames)\n",
    "    dat = Table(dyn,names=colnames)\n",
    "    \n",
    "\n",
    "    return dat\n",
    "\n"
   ]
  },
  {
   "cell_type": "code",
   "execution_count": null,
   "metadata": {},
   "outputs": [],
   "source": [
    "pwd"
   ]
  },
  {
   "cell_type": "code",
   "execution_count": 18,
   "metadata": {},
   "outputs": [
    {
     "name": "stdout",
     "output_type": "stream",
     "text": [
      "(3376, 54) 54\n",
      "(815, 54) 54\n",
      "(795, 54) 54\n"
     ]
    }
   ],
   "source": [
    "testReadFile1 = \"/Users/alejandro/Dropbox/Alejandro_CE_SN/Data/NS_MESA10_2021/0212_19/dynamics.txt\"\n",
    "dataTable1 = Get_dynamics(testReadFile1)\n",
    "testReadFile2 = \"/Users/alejandro/Dropbox/Alejandro_CE_SN/Data/NS_MESA10_2021/0216_1/dynamics.txt\"\n",
    "dataTable2 = Get_dynamics(testReadFile2)\n",
    "testReadFile3 = \"/Users/alejandro/Dropbox/Alejandro_CE_SN/Data/NS_MESA10_2021/0216_2/dynamics.txt\"\n",
    "dataTable3 = Get_dynamics(testReadFile3)\n",
    "# testReadFile4 = \"/Users/alejandro/Dropbox/Alejandro_CE_SN/Data/NS_MESA10_2021/0111_4/dynamics.txt\"\n",
    "# dataTable4 = Get_dynamics(testReadFile4)\n",
    "# testReadFile5 = \"/Users/alejandro/Dropbox/Alejandro_CE_SN/Data/NS_MESA10_2021/0208_1/dynamics.txt\"\n",
    "# dataTable5 = Get_dynamics(testReadFile5)\n"
   ]
  },
  {
   "cell_type": "code",
   "execution_count": 14,
   "metadata": {},
   "outputs": [
    {
     "name": "stdout",
     "output_type": "stream",
     "text": [
      "(10001, 54) 54\n",
      "(10001, 54) 54\n",
      "(10001, 54) 54\n",
      "(8719, 54) 54\n",
      "(5774, 54) 54\n",
      "(3854, 54) 54\n",
      "(2416, 54) 54\n",
      "(3228, 54) 54\n",
      "(3015, 54) 54\n",
      "(2855, 54) 54\n",
      "(2670, 54) 54\n",
      "(2197, 54) 54\n"
     ]
    }
   ],
   "source": [
    "# testReadFile1 = \"/Users/alejandro/Dropbox/Alejandro_CE_SN/Data/NS_MESA10_2021/0212_1/dynamics.txt\"\n",
    "# dataTable1 = Get_dynamics(testReadFile1)\n",
    "# testReadFile2 = \"/Users/alejandro/Dropbox/Alejandro_CE_SN/Data/NS_MESA10_2021/0212_2/dynamics.txt\"\n",
    "# dataTable2 = Get_dynamics(testReadFile2)\n",
    "# testReadFile3 = \"/Users/alejandro/Dropbox/Alejandro_CE_SN/Data/NS_MESA10_2021/0212_3/dynamics.txt\"\n",
    "# dataTable3 = Get_dynamics(testReadFile3)\n",
    "# testReadFile4 = \"/Users/alejandro/Dropbox/Alejandro_CE_SN/Data/NS_MESA10_2021/0212_4/dynamics.txt\"\n",
    "# dataTable4 = Get_dynamics(testReadFile4)\n",
    "# testReadFile5 = \"/Users/alejandro/Dropbox/Alejandro_CE_SN/Data/NS_MESA10_2021/0212_5/dynamics.txt\"\n",
    "# dataTable5 = Get_dynamics(testReadFile5)\n",
    "# testReadFile6 = \"/Users/alejandro/Dropbox/Alejandro_CE_SN/Data/NS_MESA10_2021/0212_6/dynamics.txt\"\n",
    "# dataTable6 = Get_dynamics(testReadFile6)\n",
    "# testReadFile7 = \"/Users/alejandro/Dropbox/Alejandro_CE_SN/Data/NS_MESA10_2021/0212_7/dynamics.txt\"\n",
    "# dataTable7 = Get_dynamics(testReadFile7)\n",
    "# testReadFile8 = \"/Users/alejandro/Dropbox/Alejandro_CE_SN/Data/NS_MESA10_2021/0212_8/dynamics.txt\"\n",
    "# dataTable8 = Get_dynamics(testReadFile8)\n",
    "# testReadFile9 = \"/Users/alejandro/Dropbox/Alejandro_CE_SN/Data/NS_MESA10_2021/0212_9/dynamics.txt\"\n",
    "# dataTable9 = Get_dynamics(testReadFile9)\n",
    "# testReadFile10 = \"/Users/alejandro/Dropbox/Alejandro_CE_SN/Data/NS_MESA10_2021/0212_10/dynamics.txt\"\n",
    "# dataTable10 = Get_dynamics(testReadFile10)\n",
    "# testReadFile11 = \"/Users/alejandro/Dropbox/Alejandro_CE_SN/Data/NS_MESA10_2021/0212_11/dynamics.txt\"\n",
    "# dataTable11 = Get_dynamics(testReadFile11)\n",
    "# testReadFile12 = \"/Users/alejandro/Dropbox/Alejandro_CE_SN/Data/NS_MESA10_2021/0212_12/dynamics.txt\"\n",
    "# dataTable12 = Get_dynamics(testReadFile12)\n",
    "\n",
    "# testReadFile1 = \"/Users/alejandro/Dropbox/Alejandro_CE_SN/Data/NS_MESA10_2021/0212_13/dynamics.txt\"\n",
    "# dataTable1 = Get_dynamics(testReadFile1)\n",
    "# testReadFile2 = \"/Users/alejandro/Dropbox/Alejandro_CE_SN/Data/NS_MESA10_2021/0212_14/dynamics.txt\"\n",
    "# dataTable2 = Get_dynamics(testReadFile2)\n",
    "# testReadFile3 = \"/Users/alejandro/Dropbox/Alejandro_CE_SN/Data/NS_MESA10_2021/0212_15/dynamics.txt\"\n",
    "# dataTable3 = Get_dynamics(testReadFile3)\n",
    "# testReadFile4 = \"/Users/alejandro/Dropbox/Alejandro_CE_SN/Data/NS_MESA10_2021/0212_16/dynamics.txt\"\n",
    "# dataTable4 = Get_dynamics(testReadFile4)\n",
    "# testReadFile5 = \"/Users/alejandro/Dropbox/Alejandro_CE_SN/Data/NS_MESA10_2021/0212_17/dynamics.txt\"\n",
    "# dataTable5 = Get_dynamics(testReadFile5)\n",
    "# testReadFile6 = \"/Users/alejandro/Dropbox/Alejandro_CE_SN/Data/NS_MESA10_2021/0212_18/dynamics.txt\"\n",
    "# dataTable6 = Get_dynamics(testReadFile6)\n",
    "# testReadFile7 = \"/Users/alejandro/Dropbox/Alejandro_CE_SN/Data/NS_MESA10_2021/0212_19/dynamics.txt\"\n",
    "# dataTable7 = Get_dynamics(testReadFile7)\n",
    "# testReadFile8 = \"/Users/alejandro/Dropbox/Alejandro_CE_SN/Data/NS_MESA10_2021/0212_20/dynamics.txt\"\n",
    "# dataTable8 = Get_dynamics(testReadFile8)\n",
    "# testReadFile9 = \"/Users/alejandro/Dropbox/Alejandro_CE_SN/Data/NS_MESA10_2021/0212_21/dynamics.txt\"\n",
    "# dataTable9 = Get_dynamics(testReadFile9)\n",
    "# testReadFile10 = \"/Users/alejandro/Dropbox/Alejandro_CE_SN/Data/NS_MESA10_2021/0212_22/dynamics.txt\"\n",
    "# dataTable10 = Get_dynamics(testReadFile10)\n",
    "# testReadFile11 = \"/Users/alejandro/Dropbox/Alejandro_CE_SN/Data/NS_MESA10_2021/0212_23/dynamics.txt\"\n",
    "# dataTable11 = Get_dynamics(testReadFile11)\n",
    "# testReadFile12 = \"/Users/alejandro/Dropbox/Alejandro_CE_SN/Data/NS_MESA10_2021/0212_24/dynamics.txt\"\n",
    "# dataTable12 = Get_dynamics(testReadFile12)\n",
    "\n",
    "testReadFile1 = \"/Users/alejandro/Dropbox/Alejandro_CE_SN/Data/NS_MESA10_2021/0212_25/dynamics.txt\"\n",
    "dataTable1 = Get_dynamics(testReadFile1)\n",
    "testReadFile2 = \"/Users/alejandro/Dropbox/Alejandro_CE_SN/Data/NS_MESA10_2021/0212_26/dynamics.txt\"\n",
    "dataTable2 = Get_dynamics(testReadFile2)\n",
    "testReadFile3 = \"/Users/alejandro/Dropbox/Alejandro_CE_SN/Data/NS_MESA10_2021/0212_27/dynamics.txt\"\n",
    "dataTable3 = Get_dynamics(testReadFile3)\n",
    "testReadFile4 = \"/Users/alejandro/Dropbox/Alejandro_CE_SN/Data/NS_MESA10_2021/0212_28/dynamics.txt\"\n",
    "dataTable4 = Get_dynamics(testReadFile4)\n",
    "testReadFile5 = \"/Users/alejandro/Dropbox/Alejandro_CE_SN/Data/NS_MESA10_2021/0212_29/dynamics.txt\"\n",
    "dataTable5 = Get_dynamics(testReadFile5)\n",
    "testReadFile6 = \"/Users/alejandro/Dropbox/Alejandro_CE_SN/Data/NS_MESA10_2021/0212_30/dynamics.txt\"\n",
    "dataTable6 = Get_dynamics(testReadFile6)\n",
    "testReadFile7 = \"/Users/alejandro/Dropbox/Alejandro_CE_SN/Data/NS_MESA10_2021/0212_31/dynamics.txt\"\n",
    "dataTable7 = Get_dynamics(testReadFile7)\n",
    "testReadFile8 = \"/Users/alejandro/Dropbox/Alejandro_CE_SN/Data/NS_MESA10_2021/0212_32/dynamics.txt\"\n",
    "dataTable8 = Get_dynamics(testReadFile8)\n",
    "testReadFile9 = \"/Users/alejandro/Dropbox/Alejandro_CE_SN/Data/NS_MESA10_2021/0212_33/dynamics.txt\"\n",
    "dataTable9 = Get_dynamics(testReadFile9)\n",
    "testReadFile10 = \"/Users/alejandro/Dropbox/Alejandro_CE_SN/Data/NS_MESA10_2021/0212_34/dynamics.txt\"\n",
    "dataTable10 = Get_dynamics(testReadFile10)\n",
    "testReadFile11 = \"/Users/alejandro/Dropbox/Alejandro_CE_SN/Data/NS_MESA10_2021/0212_35/dynamics.txt\"\n",
    "dataTable11 = Get_dynamics(testReadFile11)\n",
    "testReadFile12 = \"/Users/alejandro/Dropbox/Alejandro_CE_SN/Data/NS_MESA10_2021/0212_36/dynamics.txt\"\n",
    "dataTable12 = Get_dynamics(testReadFile12)"
   ]
  },
  {
   "cell_type": "code",
   "execution_count": 19,
   "metadata": {},
   "outputs": [
    {
     "data": {
      "image/png": "[encoded data removed]",
      "text/plain": [
       "<Figure size 432x288 with 1 Axes>"
      ]
     },
     "metadata": {
      "needs_background": "light"
     },
     "output_type": "display_data"
    }
   ],
   "source": [
    "# plt.plot(dataTable1['t']*TimeUnit,dataTable1['M_star'],label='0212_1')\n",
    "# plt.plot(dataTable2['t']*TimeUnit,dataTable2['M_star'],label='0212_2')\n",
    "# plt.plot(dataTable3['t']*TimeUnit,dataTable3['M_star'],label='0212_3')\n",
    "# plt.plot(dataTable4['t']*TimeUnit,dataTable4['M_star'],label='0212_4')\n",
    "# plt.plot(dataTable5['t']*TimeUnit,dataTable5['M_star'],label='0212_5')\n",
    "# plt.plot(dataTable6['t']*TimeUnit,dataTable6['M_star'],label='0212_6')\n",
    "# plt.plot(dataTable7['t']*TimeUnit,dataTable7['M_star'],label='0212_7')\n",
    "# plt.plot(dataTable8['t']*TimeUnit,dataTable8['M_star'],label='0212_8')\n",
    "# plt.plot(dataTable9['t']*TimeUnit,dataTable9['M_star'],label='0212_9')\n",
    "# plt.plot(dataTable10['t']*TimeUnit,dataTable10['M_star'],label='0212_10')\n",
    "# plt.plot(dataTable11['t']*TimeUnit,dataTable11['M_star'],'--',label='0212_11')\n",
    "# plt.plot(dataTable12['t']*TimeUnit,dataTable12['M_star'],'--',label='0212_12')\n",
    "\n",
    "plt.plot(dataTable1['t']*TimeUnit,dataTable1['M_star'],label='0212_19')\n",
    "plt.plot(dataTable2['t']*TimeUnit,dataTable2['M_star'],label='0216_1')\n",
    "plt.plot(dataTable3['t']*TimeUnit,dataTable3['M_star'],label='0216_2')\n",
    "\n",
    "plt.legend(loc='right')\n",
    "plt.ylabel('Mass [Msol]')\n",
    "plt.xlabel('Time [s]')\n",
    "\n",
    "plt.legend()\n",
    "plt.savefig(\"accretionNS_MESA10.png\")"
   ]
  },
  {
   "cell_type": "code",
   "execution_count": null,
   "metadata": {},
   "outputs": [],
   "source": [
    "print(dataTable5['M_star'][200]-dataTable5['M_star'][1])"
   ]
  },
  {
   "cell_type": "code",
   "execution_count": 21,
   "metadata": {},
   "outputs": [
    {
     "data": {
      "image/png": "[encoded data removed]",
      "text/plain": [
       "<Figure size 432x288 with 1 Axes>"
      ]
     },
     "metadata": {
      "needs_background": "light"
     },
     "output_type": "display_data"
    }
   ],
   "source": [
    "# plt.plot(dataTable1['t']*TimeUnit,dataTable1['M_bh'],label='0212_1')\n",
    "# plt.plot(dataTable2['t']*TimeUnit,dataTable2['M_bh'],label='0212_2')\n",
    "# plt.plot(dataTable3['t']*TimeUnit,dataTable3['M_bh'],label='0212_3')\n",
    "# plt.plot(dataTable4['t']*TimeUnit,dataTable4['M_bh'],label='0212_4')\n",
    "# plt.plot(dataTable5['t']*TimeUnit,dataTable5['M_bh'],label='0212_5')\n",
    "# plt.plot(dataTable6['t']*TimeUnit,dataTable6['M_bh'],label='0212_6')\n",
    "# plt.plot(dataTable7['t']*TimeUnit,dataTable7['M_bh'],label='0212_7')\n",
    "# plt.plot(dataTable8['t']*TimeUnit,dataTable8['M_bh'],label='0212_8')\n",
    "# plt.plot(dataTable9['t']*TimeUnit,dataTable9['M_bh'],label='0212_9')\n",
    "# plt.plot(dataTable10['t']*TimeUnit,dataTable10['M_bh'],label='0212_10')\n",
    "# plt.plot(dataTable11['t']*TimeUnit,dataTable11['M_bh'],'--',label='0212_11')\n",
    "# plt.plot(dataTable12['t']*TimeUnit,dataTable12['M_bh'],'--',label='0212_12')\n",
    "\n",
    "plt.plot(dataTable1['t']*TimeUnit,dataTable1['M_bh'],label='0212_19')\n",
    "plt.plot(dataTable2['t']*TimeUnit,dataTable2['M_bh'],label='0216_1')\n",
    "plt.plot(dataTable3['t']*TimeUnit,dataTable3['M_bh'],label='0216_2')\n",
    "\n",
    "\n",
    "x = np.arange(0.0, 5, 0.1)*TimeUnit\n",
    "# plt.fill_between(x, 1.6, 2.7,facecolor='yellow',label='$GW190425$', alpha=0.5,hatch='/')\n",
    "# plt.fill_between(x, 1.17, 1.36,facecolor='yellow',label='$GW170817$', alpha=0.5)\n",
    "# plt.fill_between(x, 1.97, 2.33,facecolor='grey',label='$M_{TOV}$')\n",
    "\n",
    "# plt.xscale('log')\n",
    "plt.legend(loc='upper right')\n",
    "plt.ylabel('Mass [Msol]')\n",
    "plt.xlabel('Time [s]')\n",
    "# plt.xlim([0, 10])\n",
    "plt.ylim([2.0, 2.3])\n",
    "plt.savefig(\"accretionExplodingStar_MESA10_convergence.png\")"
   ]
  },
  {
   "cell_type": "code",
   "execution_count": null,
   "metadata": {},
   "outputs": [],
   "source": [
    "print(dataTable1['M_bh'][-1])\n",
    "print(dataTable2['M_bh'][-1])\n",
    "print(dataTable3['M_bh'][-1])\n",
    "print(100*np.abs(dataTable2['M_bh'][-1]-dataTable3['M_bh'][-1])/dataTable2['M_bh'][-1])\n",
    "print(100*np.abs(dataTable2['M_bh'][-1]-dataTable1['M_bh'][-1])/dataTable2['M_bh'][-1])"
   ]
  },
  {
   "cell_type": "code",
   "execution_count": null,
   "metadata": {},
   "outputs": [],
   "source": [
    "plt.plot(dataTable4['t'],dataTable4['M_bh'],label='0209_4')\n",
    "print(TimeUnit)*0.14"
   ]
  },
  {
   "cell_type": "code",
   "execution_count": 17,
   "metadata": {},
   "outputs": [
    {
     "name": "stdout",
     "output_type": "stream",
     "text": [
      "5.31992\n",
      "5.10669\n",
      "4.6713\n",
      "4.14241\n",
      "3.53299\n",
      "2.50759\n",
      "2.07921\n",
      "1.88539\n",
      "1.70137\n",
      "1.49618\n",
      "1.3954\n",
      "1.35459\n"
     ]
    }
   ],
   "source": [
    "print(dataTable1['M_bh'][-1])\n",
    "print(dataTable2['M_bh'][-1])\n",
    "print(dataTable3['M_bh'][-1])\n",
    "print(dataTable4['M_bh'][-1])\n",
    "print(dataTable5['M_bh'][-1])\n",
    "print(dataTable6['M_bh'][-1])\n",
    "print(dataTable7['M_bh'][-1])\n",
    "print(dataTable8['M_bh'][-1])\n",
    "print(dataTable9['M_bh'][-1])\n",
    "print(dataTable10['M_bh'][-1])\n",
    "print(dataTable11['M_bh'][-1])\n",
    "print(dataTable12['M_bh'][-1])"
   ]
  },
  {
   "cell_type": "code",
   "execution_count": null,
   "metadata": {},
   "outputs": [],
   "source": []
  },
  {
   "cell_type": "code",
   "execution_count": null,
   "metadata": {},
   "outputs": [],
   "source": [
    "# spin already accreted\n",
    "def spin(dyn):\n",
    "    Lacc = (np.sqrt(dyn['LaccZ_bh']**2))*AngMomUnit\n",
    "    bh_spin = Lacc*c/(G*(dyn['M_bh']*Mo)**2)\n",
    "    return bh_spin"
   ]
  },
  {
   "cell_type": "code",
   "execution_count": null,
   "metadata": {},
   "outputs": [],
   "source": [
    "spinBH = spin(dataTable)"
   ]
  },
  {
   "cell_type": "code",
   "execution_count": null,
   "metadata": {},
   "outputs": [],
   "source": [
    "plt.plot(dataTable['t'],spinBH)"
   ]
  },
  {
   "cell_type": "code",
   "execution_count": null,
   "metadata": {},
   "outputs": [],
   "source": [
    "pwd"
   ]
  },
  {
   "cell_type": "code",
   "execution_count": null,
   "metadata": {},
   "outputs": [],
   "source": []
  }
 ],
 "metadata": {
  "anaconda-cloud": {},
  "kernelspec": {
   "display_name": "Python 2",
   "language": "python",
   "name": "python2"
  },
  "language_info": {
   "codemirror_mode": {
    "name": "ipython",
    "version": 2
   },
   "file_extension": ".py",
   "mimetype": "text/x-python",
   "name": "python",
   "nbconvert_exporter": "python",
   "pygments_lexer": "ipython2",
   "version": "2.7.18"
  }
 },
 "nbformat": 4,
 "nbformat_minor": 1
}

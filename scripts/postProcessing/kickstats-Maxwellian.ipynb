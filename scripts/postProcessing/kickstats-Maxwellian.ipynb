{
 "cells": [
  {
   "cell_type": "code",
   "execution_count": 1,
   "metadata": {},
   "outputs": [],
   "source": [
    "import matplotlib.pyplot as plt\n",
    "import matplotlib as mpl\n",
    "import numpy as np\n",
    "from astropy.io import ascii\n",
    "from astropy.table import Table\n",
    "from scipy.stats import uniform, maxwell\n",
    "\n",
    "\n",
    "from matplotlib.colors import LinearSegmentedColormap\n",
    "\n",
    "\n",
    "%matplotlib inline\n",
    "\n",
    "# set some global options\\n\",\n",
    "plt.rcParams['figure.figsize'] = (8,7)\n",
    "plt.rcParams['legend.frameon'] = False\n",
    "plt.rcParams['legend.fontsize'] = 20\n",
    "plt.rcParams['xtick.labelsize'] = 20\n",
    "plt.rcParams['axes.labelsize'] = 20\n",
    "plt.rcParams['ytick.labelsize'] = 20\n",
    "plt.rcParams['ytick.minor.size'] = 20\n",
    "plt.rcParams['legend.borderpad'] = 0.1\n",
    "plt.rcParams['legend.labelspacing'] = 0.1\n",
    "plt.rcParams['legend.handletextpad'] = 0.1\n",
    "plt.rcParams['font.family'] = 'stixgeneral'\n",
    "plt.rcParams['font.size'] = 20\n",
    "\n",
    "class Constants():\n",
    "    def __init__(self):\n",
    "        self.msun = 1.989e33\n",
    "        self.rsun = 6.955e10\n",
    "        self.G  = 6.674e-8\n",
    "        self.yr = 3.1536e7\n",
    "        self.day = 60*60*24\n",
    "        self.h  = 6.6260755e-27\n",
    "        self.kB = 1.380658e-16\n",
    "        self.mp = 1.6726219e-24\n",
    "        self.me = 9.10938356e-28\n",
    "        self.c  = 2.99792458e10\n",
    "        self.pc = 3.085677581e18\n",
    "        self.au = 1.496e13\n",
    "        self.q = 4.8032068e-10\n",
    "        self.eV = 1.6021772e-12\n",
    "        self.sigmaSB = 5.67051e-5\n",
    "        self.sigmaT = 6.6524e-25\n",
    "\n",
    "        # print (\"Constants defined...\")                                                                        \n",
    "        return None\n",
    "\n",
    "c = Constants()"
   ]
  },
  {
   "cell_type": "code",
   "execution_count": 2,
   "metadata": {},
   "outputs": [],
   "source": [
    "\n",
    "def finalorb(beta,v,theta,phi):  #calculate final orbit from beta=M_f/M_i, v=v_kick/v_orb, theta and phi=radians\n",
    "    \n",
    "    alpha = beta / (2*beta - v**2 - 1 -2*v*np.cos(theta))  #alpha = a_f/a_i\n",
    "    e = 1 - 1/(alpha*beta) * (2*beta - beta/alpha -v**2*np.sin(theta)**2*np.cos(phi)**2)\n",
    "    \n",
    "    return alpha,e\n",
    "\n",
    "\n",
    "def t_mergefunc(a,e,m1,m2):  # calculate merging time for orbit\n",
    "    \n",
    "    \n",
    "    mu = m1*m2/(m1+m2)\n",
    "    M = m1+m2\n",
    "    \n",
    "    t = c.c**5/c.G**3 * 5./256. * a**4/(mu*M**2) * (1. - e**2)**(7./2.)\n",
    "    \n",
    "    return t\n",
    "\n",
    "def randomangle(size):  # create random points on sphere\n",
    "    \n",
    "    u = np.random.uniform(low=0.0, high=1.0, size=size)\n",
    "    v = np.random.uniform(low=0.0, high=1.0, size=size)\n",
    "    phi = 2*np.pi*u\n",
    "    theta = np.arccos(2.*v - 1.)\n",
    "\n",
    "    return phi,theta\n",
    "\n",
    "def get_v_kick(N, sigma):   # maxwellian kick destribution\n",
    "    \"\"\"\n",
    "    Generate random kick velocities from a Maxwellian distribution.\n",
    "\n",
    "    Args:\n",
    "        N : int, number of random samples to generate\n",
    "        sigma : float (default: constants.v_kick_sigma), Maxwellian dispersion\n",
    "            velocity (km/s)\n",
    "\n",
    "    Returns:\n",
    "        v_kick : ndarray, array of random kick velocities (km/s)\n",
    "    \"\"\"\n",
    "\n",
    "    return maxwell.rvs(scale=sigma, size=N)\n",
    "\n",
    "def doSN(a_initial,v):   # for looping through many pre-SN separations\n",
    "\n",
    "\n",
    "    ## Random kick direction\n",
    "    phi,theta = randomangle(size)\n",
    "\n",
    "    # get final orbits\n",
    "    alpha,e =  finalorb(beta,v,theta,phi)\n",
    "    bound = [e<1.0]\n",
    "    t_merge = t_mergefunc(a_initial*alpha[bound],e[bound],M1-dm,M2)\n",
    "    \n",
    "    return bound,t_merge\n",
    "\n",
    "def doSN_maxwellian(a_initial,sigma):  # for looping through many pre-SN separations with maxwellian kick size\n",
    "\n",
    "\n",
    "    ## Random kick direction\n",
    "    phi,theta = randomangle(size)\n",
    "    v_kick = get_v_kick(size, sigma)*1e5 #cm/s\n",
    "    \n",
    "    \n",
    "    v_orb = np.sqrt(c.G*(M1 + M2)/a_initial)\n",
    "    v = v_kick/v_orb\n",
    "   \n",
    "        \n",
    "    # get final orbits\n",
    "    alpha,e =  finalorb(beta,v,theta,phi)\n",
    "    bound = [e<1.0]\n",
    "    t_merge = t_mergefunc(a_initial*alpha[bound],e[bound],M1-dm,M2)\n",
    "    \n",
    "    return bound,t_merge\n",
    "\n",
    "    "
   ]
  },
  {
   "cell_type": "markdown",
   "metadata": {},
   "source": [
    "# Merger time for random kick direction and fixed a = 2.8$R_\\odot$ and kick magnitude\n",
    "\n"
   ]
  },
  {
   "cell_type": "code",
   "execution_count": 3,
   "metadata": {},
   "outputs": [
    {
     "name": "stdout",
     "output_type": "stream",
     "text": [
      "0.518518518519 0.8241195458585927\n"
     ]
    },
    {
     "name": "stderr",
     "output_type": "stream",
     "text": [
      "/Users/sophielundschroder/anaconda3/envs/env_py2/lib/python2.7/site-packages/ipykernel_launcher.py:31: FutureWarning: Using a non-tuple sequence for multidimensional indexing is deprecated; use `arr[tuple(seq)]` instead of `arr[seq]`. In the future this will be interpreted as an array index, `arr[np.array(seq)]`, which will result either in an error or a different result.\n"
     ]
    }
   ],
   "source": [
    "\n",
    "# start system\n",
    "a_initial = 2.8*c.rsun\n",
    "M1 = 4*c.msun\n",
    "M2 = 1.4*c.msun\n",
    "M_initial = M1+M2\n",
    "v_orb = np.sqrt(c.G*M_initial/a_initial)\n",
    "\n",
    "# kick and mass loss\n",
    "M1_final = 1.4*c.msun\n",
    "v_kick = 500*1e5 #km/s\n",
    "\n",
    "v = v_kick/v_orb\n",
    "beta = (M_initial - (M1 - M1_final))/(M_initial) # (mtotal-dm)/mtotal \n",
    "print beta,v \n",
    "\n",
    "\n",
    "## Random kick direction for number of tests\n",
    "size = 10000\n",
    "phi,theta = randomangle(size)\n",
    "\n",
    "# calculate final orbits based kick magnitude, direction and mass loss\n",
    "#alpha = a_f/a_i and e = eccentricity\n",
    "alpha,e =  finalorb(beta,v,theta,phi)\n",
    "\n",
    "# if eccentricity is larger than 1, the system is unbound\n",
    "bound = [e<1.]   \n",
    "\n",
    "# mergertime distribution of bound orbits\n",
    "dm = (1.-beta)*M_initial\n",
    "t_merge = t_mergefunc(a_initial*alpha[bound],e[bound],M1-dm,M2)\n",
    "\n",
    "\n",
    "\n"
   ]
  },
  {
   "cell_type": "code",
   "execution_count": 4,
   "metadata": {
    "scrolled": false
   },
   "outputs": [
    {
     "name": "stderr",
     "output_type": "stream",
     "text": [
      "/Users/sophielundschroder/anaconda3/envs/env_py2/lib/python2.7/site-packages/ipykernel_launcher.py:4: VisibleDeprecationWarning: Passing `normed=True` on non-uniform bins has always been broken, and computes neither the probability density function nor the probability mass function. The result is only correct if the bins are uniform, when density=True will produce the same result anyway. The argument will be removed in a future version of numpy.\n",
      "  after removing the cwd from sys.path.\n"
     ]
    },
    {
     "data": {
      "text/plain": [
       "<matplotlib.legend.Legend at 0x7f96c880fa50>"
      ]
     },
     "execution_count": 4,
     "metadata": {},
     "output_type": "execute_result"
    },
    {
     "data": {
      "image/png": "[encoded data removed]",
      "text/plain": [
       "<Figure size 432x288 with 1 Axes>"
      ]
     },
     "metadata": {
      "needs_background": "light"
     },
     "output_type": "display_data"
    }
   ],
   "source": [
    "bound_factor = np.sum(bound)/float(size)  # fraction of systems that ended up bound post SN\n",
    "\n",
    "# make histogram showing timescales\n",
    "hist, bin_edges  = np.histogram(np.log10(t_merge/(c.yr*1e9)), bins=np.linspace(-11,4, 50),normed=True)\n",
    "bin_center = (bin_edges[1:] + bin_edges[:-1])/2.\n",
    "\n",
    "plt.plot(bin_center,hist*bound_factor,label=r'$t_{merge}$')\n",
    "\n",
    "plt.xlabel('log(time/Gyr)')\n",
    "plt.ylabel(r'$\\rm P(t_{merger})$')\n",
    "plt.legend()\n",
    "\n",
    "\n"
   ]
  },
  {
   "cell_type": "code",
   "execution_count": null,
   "metadata": {},
   "outputs": [],
   "source": []
  },
  {
   "cell_type": "markdown",
   "metadata": {},
   "source": [
    "# Merger timw for Maxwellian kick destribution"
   ]
  },
  {
   "cell_type": "code",
   "execution_count": 11,
   "metadata": {},
   "outputs": [
    {
     "name": "stderr",
     "output_type": "stream",
     "text": [
      "/Users/sophielundschroder/anaconda3/envs/env_py2/lib/python2.7/site-packages/ipykernel_launcher.py:72: FutureWarning: Using a non-tuple sequence for multidimensional indexing is deprecated; use `arr[tuple(seq)]` instead of `arr[seq]`. In the future this will be interpreted as an array index, `arr[np.array(seq)]`, which will result either in an error or a different result.\n"
     ]
    }
   ],
   "source": [
    "##### start system\n",
    "n = 1000  # for range of separations\n",
    "# a_initial = np.linspace(1.1,2.8,n)*c.rsun\n",
    "a_initial = np.ones(n)*1.4*c.rsun\n",
    "M1 = 5.4*c.msun\n",
    "M2 = 1.3*c.msun\n",
    "M_initial = M1+M2\n",
    "v_orb = np.sqrt(c.G*M_initial/a_initial)\n",
    "\n",
    "# kick and mass loss\n",
    "M1_final = 2.1*c.msun\n",
    "\n",
    "# maxwellian kick magnitude for number of tests for each separation\n",
    "size = 10000\n",
    "sigma = 30.0 #km/s\n",
    "\n",
    "\n",
    "# funky variables used to calculate post SN orbits\n",
    "beta = (M_initial - (M1 - M1_final))/(M_initial) # (mtotal-dm)/mtotal \n",
    "dm = (1.-beta)*M_initial\n",
    "\n",
    "\n",
    "\n",
    "bounds_sigma  = np.zeros(1)\n",
    "t_merges_sigma  = np.zeros(1)\n",
    "\n",
    "for i in range(len(a_initial)):\n",
    "\n",
    "   \n",
    "    bound,t_merge = doSN_maxwellian(a_initial[i],sigma)\n",
    "    \n",
    "    bounds_sigma = np.append(bounds_sigma,bound)\n",
    "    t_merges_sigma = np.append(t_merges_sigma,t_merge)\n",
    "       \n",
    "# t_merges = np.array(t_merges)\n",
    "# bounds = np.array(bounds)\n",
    "\n",
    "\n"
   ]
  },
  {
   "cell_type": "code",
   "execution_count": 13,
   "metadata": {},
   "outputs": [
    {
     "name": "stderr",
     "output_type": "stream",
     "text": [
      "/Users/sophielundschroder/anaconda3/envs/env_py2/lib/python2.7/site-packages/ipykernel_launcher.py:4: RuntimeWarning: divide by zero encountered in log10\n",
      "  after removing the cwd from sys.path.\n",
      "/Users/sophielundschroder/anaconda3/envs/env_py2/lib/python2.7/site-packages/ipykernel_launcher.py:4: VisibleDeprecationWarning: Passing `normed=True` on non-uniform bins has always been broken, and computes neither the probability density function nor the probability mass function. The result is only correct if the bins are uniform, when density=True will produce the same result anyway. The argument will be removed in a future version of numpy.\n",
      "  after removing the cwd from sys.path.\n"
     ]
    },
    {
     "data": {
      "image/png": "[encoded data removed]",
      "text/plain": [
       "<Figure size 432x288 with 1 Axes>"
      ]
     },
     "metadata": {
      "needs_background": "light"
     },
     "output_type": "display_data"
    }
   ],
   "source": [
    "\n",
    "bound_factor = np.sum(bounds_sigma)/float(n*size)\n",
    "# make histogram showing timescales\n",
    "hist, bin_edges  = np.histogram(np.log10(t_merges_sigma[:]/(c.yr*1e9)), bins=np.linspace(-6,4.5, 100),normed=True)\n",
    "\n",
    "\n",
    "bin_center = (bin_edges[1:] + bin_edges[:-1])/2.\n",
    "\n",
    "plt.plot(bin_center,hist*bound_factor,lw=3,label=r'$\\sigma_{\\rm kick} =30\\ {\\rm km/s}$')\n",
    "\n",
    "plt.axvline(x=np.log10(13.77),color='k',ls='--', label=r'$\\tau_{\\rm H}$')\n",
    "plt.legend(loc='upper left')\n",
    "plt.xlabel(r'$\\rm log(t_{c}/Gyr)$')\n",
    "plt.ylabel(r'$\\rm P(t_{c})$')\n",
    "plt.grid()\n",
    "plt.tight_layout()\n",
    "# plt.savefig('Mergertimes_maxwellian_30.pdf')"
   ]
  },
  {
   "cell_type": "markdown",
   "metadata": {},
   "source": [
    "# print key numbers..."
   ]
  },
  {
   "cell_type": "code",
   "execution_count": 8,
   "metadata": {},
   "outputs": [
    {
     "name": "stdout",
     "output_type": "stream",
     "text": [
      "fraction of systems bound after SN  0.3766036\n"
     ]
    }
   ],
   "source": [
    "print \"fraction of systems bound after SN \",bound_factor"
   ]
  },
  {
   "cell_type": "code",
   "execution_count": 9,
   "metadata": {},
   "outputs": [
    {
     "name": "stdout",
     "output_type": "stream",
     "text": [
      "fraction of bound systems merging within Hubble time  0.7948564485310283\n"
     ]
    }
   ],
   "source": [
    "merging = [t_merges_sigma[:]<13.77e9*c.yr]\n",
    "print 'fraction of bound systems merging within Hubble time ', np.sum(merging)/np.sum(bounds_sigma)"
   ]
  },
  {
   "cell_type": "code",
   "execution_count": 22,
   "metadata": {},
   "outputs": [
    {
     "name": "stdout",
     "output_type": "stream",
     "text": [
      "95% interval in log space:  -2.543090910396968 2.3323290311168443\n",
      "95% interval in Gyr:   0.002863578477359297 214.94583346346806\n"
     ]
    }
   ],
   "source": [
    "percent975 = np.percentile(t_merges_sigma[:]/(c.yr*1e9),97.5)\n",
    "percent25 = np.percentile(t_merges_sigma[:]/(c.yr*1e9),2.5)\n",
    "\n",
    "\n",
    "print '95% interval in log space: ', np.log10(percent25), np.log10(percent975)\n",
    " \n",
    "print '95% interval in Gyr:  ',percent25, percent975"
   ]
  },
  {
   "cell_type": "code",
   "execution_count": 23,
   "metadata": {},
   "outputs": [],
   "source": [
    "# save mergertimes in a txt file\n",
    "np.savetxt(\"mergertimes.txt\",t_merges_sigma[:]/(c.yr*1e9) , newline=\" \")"
   ]
  },
  {
   "cell_type": "code",
   "execution_count": null,
   "metadata": {},
   "outputs": [],
   "source": []
  },
  {
   "cell_type": "code",
   "execution_count": null,
   "metadata": {},
   "outputs": [],
   "source": []
  }
 ],
 "metadata": {
  "kernelspec": {
   "display_name": "Python 2",
   "language": "python",
   "name": "python2"
  },
  "language_info": {
   "codemirror_mode": {
    "name": "ipython",
    "version": 2
   },
   "file_extension": ".py",
   "mimetype": "text/x-python",
   "name": "python",
   "nbconvert_exporter": "python",
   "pygments_lexer": "ipython2",
   "version": "2.7.18"
  }
 },
 "nbformat": 4,
 "nbformat_minor": 2
}
